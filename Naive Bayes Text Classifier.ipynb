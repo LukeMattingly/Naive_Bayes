{
 "cells": [
  {
   "cell_type": "markdown",
   "metadata": {},
   "source": [
    "# Naive Bayes Text Classification\n",
    "\n",
    "Below we will perform a \"Bag of Words\" style classification of text documents. Our goal is to train a classifier that can accurately predict whether newsgroup posts come from a newgroup about baseball or a newsgroup about hockey. "
   ]
  },
  {
   "cell_type": "code",
   "execution_count": 58,
   "metadata": {
    "collapsed": true
   },
   "outputs": [],
   "source": [
    "import pandas as pd\n",
    "import numpy as np\n",
    "import matplotlib.pyplot as plt\n",
    "import seaborn as sns\n",
    "import math # For isNan\n",
    "\n",
    "%matplotlib inline\n",
    "\n",
    "#Input Files\n",
    "trainFile1 = \"C:/Users/Kycool13/Documents/GitHub/Naive_Bayes_Classifier/baseball_train_set.csv\"\n",
    "baseball_train_set = pd.read_csv(trainFile1,header=None)\n",
    "\n",
    "trainFile2 = \"C:/Users/Kycool13/Documents/GitHub/Naive_Bayes_Classifier/hockey_train_set.csv\"\n",
    "hockey_train_set = pd.read_csv(trainFile2,header=None)\n",
    "\n",
    "testFile1 = \"C:/Users/Kycool13/Documents/GitHub/Naive_Bayes_Classifier/baseball_test_set.csv\"\n",
    "baseball_test_set = pd.read_csv(testFile1,header=None)\n",
    "\n",
    "testFile2 = \"C:/Users/Kycool13/Documents/GitHub/Naive_Bayes_Classifier/hockey_test_set.csv\"\n",
    "hockey_test_set = pd.read_csv(testFile2,header=None)\n",
    "\n",
    "#Input Size matrix of 50 x 5822\n",
    "nrows = 50\n",
    "ncolumns = 5822\n",
    "\n",
    "def Naive_Bayes(beta, num_train):\n",
    "    #Beta is 0 when we are calculating the MLE Estimate\n",
    "\n",
    "    #Turn training data into ndarrays\n",
    "    baseball_train_set_nd = baseball_train_set.values\n",
    "    hockey_train_set_nd = hockey_train_set.values\n",
    "    \n",
    "    #Dirichlet prior parameters = beta\n",
    "    baseball_count_np = beta * np.ones((1,ncolumns))\n",
    "    hockey_count_np = beta * np.ones((1,ncolumns))\n",
    "    \n",
    "    #Sum the training set up to the number desired to train, then add to count\n",
    "    baseball_count_np =  baseball_count_np + sum(baseball_train_set_nd[0:num_train,0:])\n",
    "    hockey_count_np =  hockey_count_np + sum(hockey_train_set_nd[0:num_train, 0:])\n",
    "    \n",
    "    #Divide the count by the sum of the count, then take the log.\n",
    "    #We use log as the probablilites fall between [0,1] and log is monotonic on [0,1]\n",
    "    log_baseball = np.log(baseball_count_np[0:] / baseball_count_np.sum(axis=1))\n",
    "    log_hockey = np.log(hockey_count_np[0:] / hockey_count_np.sum(axis=1))\n",
    "    \n",
    "    #Create arrays of -1s for predictions                        \n",
    "    baseball_predictions = -1 * np.ones((1, nrows))\n",
    "    hockey_predictions = -1 * np.ones((1, nrows))\n",
    "    \n",
    "    baseball_test_set_nd = baseball_test_set.values\n",
    "    hockey_test_set_nd = hockey_test_set.values\n",
    "    \n",
    "    #Predict the baseball posts\n",
    "    for i in range (0,50):\n",
    "        baseball_prob = 0;\n",
    "        hockey_prob = 0;\n",
    "    \n",
    "        for j in range(0, 5822):\n",
    "                 \n",
    "                #We defined 0 = 0 * log(0)\n",
    "                b_term = baseball_test_set_nd[i,j] * log_baseball[0,j];\n",
    "                h_term = baseball_test_set_nd[i,j] * log_hockey[0,j];\n",
    "                \n",
    "                #If the value is not a nan, then we'll add it to the probability\n",
    "                if ~np.isnan(b_term).any():\n",
    "                    baseball_prob = baseball_prob + b_term;\n",
    "                    \n",
    "                if ~np.isnan(h_term).any():\n",
    "                    hockey_prob = hockey_prob + h_term;\n",
    "        \n",
    "        #If there's a tie, then predict baseball        \n",
    "        if baseball_prob >= hockey_prob:\n",
    "            baseball_predictions[0,i] = 1; #Positive prediction\n",
    "        else:\n",
    "            baseball_predictions[0,i] = 0; #Incorrect prediction\n",
    "        \n",
    "    #Predict the hockey posts\n",
    "    for i in range (0,50):\n",
    "        baseball_prob =0;\n",
    "        hockey_prob = 0;\n",
    "    \n",
    "        for j in range(0, 5822):\n",
    "        \n",
    "                b_term = hockey_test_set_nd[i,j] * log_baseball[0,j];\n",
    "                h_term = hockey_test_set_nd[i,j] * log_hockey[0,j];\n",
    "                \n",
    "                if ~np.isnan(b_term).any():\n",
    "                    baseball_prob = baseball_prob + b_term;\n",
    "                    \n",
    "                if ~np.isnan(h_term).any():\n",
    "                    hockey_prob = hockey_prob + h_term;\n",
    "                \n",
    "        if hockey_prob > baseball_prob:\n",
    "            hockey_predictions[0,i] = 1; \n",
    "        else:\n",
    "            hockey_predictions[0,i] = 0; \n",
    "\n",
    "    #Accuracy is calculated by summing total predictions    \n",
    "    accuracy = sum(baseball_predictions[0,0:]) + sum(hockey_predictions[0,0:]); \n",
    "    #Divide by total training examples of 2 * nrows\n",
    "    accuracy = (accuracy / (2 * 50));\n",
    "    \n",
    "    print \"Accuracy\", accuracy\n",
    "    return accuracy;"
   ]
  },
  {
   "cell_type": "markdown",
   "metadata": {},
   "source": [
    "Let's test our Classifier given a Beta value, and a number of training examples to look at."
   ]
  },
  {
   "cell_type": "code",
   "execution_count": 60,
   "metadata": {
    "scrolled": true
   },
   "outputs": [
    {
     "name": "stderr",
     "output_type": "stream",
     "text": [
      "C:\\Users\\Kycool13\\Anaconda2\\lib\\site-packages\\ipykernel_launcher.py:43: RuntimeWarning: divide by zero encountered in log\n",
      "C:\\Users\\Kycool13\\Anaconda2\\lib\\site-packages\\ipykernel_launcher.py:44: RuntimeWarning: divide by zero encountered in log\n",
      "C:\\Users\\Kycool13\\Anaconda2\\lib\\site-packages\\ipykernel_launcher.py:61: RuntimeWarning: invalid value encountered in multiply\n",
      "C:\\Users\\Kycool13\\Anaconda2\\lib\\site-packages\\ipykernel_launcher.py:62: RuntimeWarning: invalid value encountered in multiply\n",
      "C:\\Users\\Kycool13\\Anaconda2\\lib\\site-packages\\ipykernel_launcher.py:84: RuntimeWarning: invalid value encountered in multiply\n",
      "C:\\Users\\Kycool13\\Anaconda2\\lib\\site-packages\\ipykernel_launcher.py:85: RuntimeWarning: invalid value encountered in multiply\n"
     ]
    },
    {
     "name": "stdout",
     "output_type": "stream",
     "text": [
      "Accuracy 0.5\n"
     ]
    },
    {
     "data": {
      "text/plain": [
       "0.5"
      ]
     },
     "execution_count": 60,
     "metadata": {},
     "output_type": "execute_result"
    }
   ],
   "source": [
    "Naive_Bayes(0,50)"
   ]
  },
  {
   "cell_type": "code",
   "execution_count": 54,
   "metadata": {
    "scrolled": true
   },
   "outputs": [
    {
     "name": "stdout",
     "output_type": "stream",
     "text": [
      "Accuracy 0.46\n",
      "Accuracy 0.59\n",
      "Accuracy 0.75\n",
      "Accuracy 0.6\n",
      "Accuracy 0.71\n",
      "Accuracy 0.81\n",
      "Accuracy 0.81\n",
      "Accuracy 0.83\n",
      "Accuracy 0.84\n",
      "Accuracy 0.88\n",
      "Accuracy 0.87\n"
     ]
    },
    {
     "data": {
      "image/png": "[encoded data removed]",
      "text/plain": [
       "<matplotlib.figure.Figure at 0xe6cd2b0>"
      ]
     },
     "metadata": {},
     "output_type": "display_data"
    }
   ],
   "source": [
    "#Plotting of Beta =0.1, Classification Accuracy vs Training Posts. \n",
    "ans_array = np.zeros((1,11))\n",
    "j = 0\n",
    "\n",
    "n_values = [1, 5, 10, 15, 20, 25, 30, 35, 40, 45, 50];\n",
    "\n",
    "for i in n_values:\n",
    "    ans_array[0,j] = Naive_Bayes(0.1, i);\n",
    "    j = j+1;\n",
    "    \n",
    "plt.plot(n_values, ans_array[0,0:]);\n",
    "plt.ylabel('Classification Accuracy');\n",
    "plt.xlabel('N Training Posts');\n",
    "plt.suptitle('Classification Training for B = 0.1');\n"
   ]
  },
  {
   "cell_type": "markdown",
   "metadata": {},
   "source": [
    "As we can see after 15 training posts we have almost a steady incline in our Classification accuracy which peaks at 0.88. "
   ]
  },
  {
   "cell_type": "code",
   "execution_count": 55,
   "metadata": {},
   "outputs": [
    {
     "name": "stdout",
     "output_type": "stream",
     "text": [
      "Accuracy 0.86\n",
      "Accuracy 0.86\n",
      "Accuracy 0.86\n",
      "Accuracy 0.87\n",
      "Accuracy 0.87\n"
     ]
    },
    {
     "name": "stderr",
     "output_type": "stream",
     "text": [
      "C:\\Users\\Kycool13\\Anaconda2\\lib\\site-packages\\ipykernel_launcher.py:64: RuntimeWarning: divide by zero encountered in log\n",
      "C:\\Users\\Kycool13\\Anaconda2\\lib\\site-packages\\ipykernel_launcher.py:65: RuntimeWarning: divide by zero encountered in log\n",
      "C:\\Users\\Kycool13\\Anaconda2\\lib\\site-packages\\ipykernel_launcher.py:82: RuntimeWarning: invalid value encountered in multiply\n",
      "C:\\Users\\Kycool13\\Anaconda2\\lib\\site-packages\\ipykernel_launcher.py:83: RuntimeWarning: invalid value encountered in multiply\n",
      "C:\\Users\\Kycool13\\Anaconda2\\lib\\site-packages\\ipykernel_launcher.py:105: RuntimeWarning: invalid value encountered in multiply\n",
      "C:\\Users\\Kycool13\\Anaconda2\\lib\\site-packages\\ipykernel_launcher.py:106: RuntimeWarning: invalid value encountered in multiply\n"
     ]
    },
    {
     "name": "stdout",
     "output_type": "stream",
     "text": [
      "Accuracy 0.5\n",
      "Accuracy 0.79\n",
      "Accuracy 0.65\n",
      "Accuracy 0.55\n",
      "Accuracy 0.54\n"
     ]
    },
    {
     "name": "stderr",
     "output_type": "stream",
     "text": [
      "C:\\Users\\Kycool13\\Anaconda2\\lib\\site-packages\\ipykernel_launcher.py:20: RuntimeWarning: divide by zero encountered in log\n"
     ]
    },
    {
     "data": {
      "image/png": "[encoded data removed]",
      "text/plain": [
       "<matplotlib.figure.Figure at 0xe6cd080>"
      ]
     },
     "metadata": {},
     "output_type": "display_data"
    }
   ],
   "source": [
    "#Plotting of Beta i. Classification Accuracy vs Beta. \n",
    "ans_array = np.zeros((1,10))\n",
    "j = 0\n",
    "\n",
    "n_values = [.00001, .0001, .001, .01, .1, 0, 1, 2, 5, 10];\n",
    "\n",
    "for i in n_values:\n",
    "    ans_array[0,j] = Naive_Bayes(i, 50);\n",
    "    j = j+1;\n",
    "\n",
    "plt.suptitle('Classification Training for Various Betas');\n",
    "    \n",
    "plt.subplot(121)    \n",
    "plt.plot(n_values, ans_array[0,0:]);\n",
    "plt.ylabel('Classification Accuracy');\n",
    "plt.xlabel('Beta Values');\n",
    "plt.title('Subplot for Various Betas');\n",
    "\n",
    "plt.subplot(122)\n",
    "plt.plot(np.log(n_values), ans_array[0,0:]);\n",
    "plt.ylabel('Classification Accuracy');\n",
    "plt.xlabel('Log Beta Values');\n",
    "plt.title('Subplot for Log Betas');\n",
    "\n",
    "\n",
    "plt.subplots_adjust(left=0.2, wspace=0.8, top=0.8)"
   ]
  },
  {
   "cell_type": "markdown",
   "metadata": {},
   "source": [
    "Since the first half of the β values are very small, and closely grouped together let's look at the log values as well to compare. \n",
    "\n",
    "As we can see from the Acurracy outputs the classification accurracy is high for the first half of the β values. Yet it drastically drops at β =0, yielding 0.5 accuracy. Then as the β values continue to increase the accuracy continues to decrease. "
   ]
  },
  {
   "cell_type": "markdown",
   "metadata": {},
   "source": [
    "### To Do\n",
    "* Answer all questions from homework assignment\n",
    "* Try to make both subgraphs larger"
   ]
  },
  {
   "cell_type": "code",
   "execution_count": null,
   "metadata": {
    "collapsed": true
   },
   "outputs": [],
   "source": []
  }
 ],
 "metadata": {
  "kernelspec": {
   "display_name": "Python 2",
   "language": "python",
   "name": "python2"
  },
  "language_info": {
   "codemirror_mode": {
    "name": "ipython",
    "version": 2
   },
   "file_extension": ".py",
   "mimetype": "text/x-python",
   "name": "python",
   "nbconvert_exporter": "python",
   "pygments_lexer": "ipython2",
   "version": "2.7.13"
  }
 },
 "nbformat": 4,
 "nbformat_minor": 2
}
